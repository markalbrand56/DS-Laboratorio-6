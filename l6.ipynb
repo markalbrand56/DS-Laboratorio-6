{
 "cells": [
  {
   "cell_type": "markdown",
   "metadata": {},
   "source": [
    "# Laboratorio 6\n",
    "- Mark Albrand 21004\n",
    "- Jimena Hernández 21199"
   ]
  },
  {
   "cell_type": "markdown",
   "metadata": {},
   "source": [
    "## IA Generativa\n",
    "\n",
    "Para este laboratorio se deberá acudir al uso de un modelo de IAGen para que funcione de guía en el desarrollo del laboratorio. El modelo elegido es ChatGPT4, el cual es un modelo de lenguaje natural que se puede utilizar para generar texto.\n",
    "\n",
    "### Rol de la IA Generativa\n",
    "\n",
    "**Asistente**\n",
    "\n",
    "```text\n",
    "Sirva como Copiloto de Análisis de Datos para navegar mi proyecto de análisis de datos que consiste en la implementación y entrenamiento de una GAN en un conjunto de datos consta de más de 200,000 imágenes a color, de 128 X 128 X 3 c/u.\n",
    "\n",
    "Responsabilidades:\n",
    "\n",
    "1. Colaborar: Comprenda los datos que influyen en nuestro análisis.\n",
    "2. Integrar: Utilice el archivo CSV proporcionado en nuestro espacio de trabajo para las discusiones.\n",
    "3. Dialogar: Participe en una interacción bidireccional, haciendo pausas para mi aportación.\n",
    "4. Revisar: Evalúe conjuntamente los resultados, considerando mejoras y proporcione consejos de mejora.\n",
    "5. Confirmar: Repita mis directivas para asegurar la sincronización.\n",
    "\n",
    "Entorno de trabajo: Jupyter Notebook.\n",
    "\n",
    "Repita mis objetivos para confirmar la alineación.\n",
    "```\n",
    "\n",
    "*Respuesta:*\n",
    "\n",
    "```text\n",
    "Para asegurarnos de estar alineados en tu proyecto de análisis de datos utilizando GANs, aquí están los objetivos que mencionaste:\n",
    "\n",
    "Colaborar: Trabajaré contigo para entender y analizar los datos que influyen en nuestro proyecto, que consiste en más de 200,000 imágenes a color de 128 x 128 x 3.\n",
    "Integrar: Utilizaré el archivo CSV que has proporcionado para incorporarlo a nuestro espacio de trabajo y discutir los datos relevantes.\n",
    "Dialogar: Mantendré una comunicación activa y bidireccional, haciendo pausas para recibir tus aportes y discutir los avances.\n",
    "Revisar: Evaluaremos juntos los resultados obtenidos del entrenamiento de la GAN, considerando posibles mejoras y ajustes según sea necesario.\n",
    "Confirmar: Repetiré tus instrucciones para asegurar que estamos en sincronía con los pasos a seguir y los objetivos del proyecto.\n",
    "Trabajaremos en un entorno de Jupyter Notebook. ¿Todo esto refleja correctamente tus expectativas para proceder?\n",
    "```"
   ]
  },
  {
   "cell_type": "markdown",
   "metadata": {},
   "source": [
    "### Implementación de la GAN"
   ]
  },
  {
   "cell_type": "markdown",
   "metadata": {},
   "source": [
    "### Entrenamiento de la GAN"
   ]
  },
  {
   "cell_type": "markdown",
   "metadata": {},
   "source": [
    "### Reflexión sobre el uso de un modelo de IAGen y el laboratorio (5 puntos)"
   ]
  }
 ],
 "metadata": {
  "language_info": {
   "name": "python"
  }
 },
 "nbformat": 4,
 "nbformat_minor": 2
}
